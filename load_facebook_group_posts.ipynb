{
 "cells": [
  {
   "cell_type": "markdown",
   "metadata": {},
   "source": [
    "Загрузка постов с facebook\n",
    "------------"
   ]
  },
  {
   "cell_type": "markdown",
   "metadata": {},
   "source": [
    "Константы, используемые в проекте"
   ]
  },
  {
   "cell_type": "code",
   "execution_count": 29,
   "metadata": {
    "collapsed": false
   },
   "outputs": [],
   "source": [
    "def constant(func):\n",
    "    def funcset(self, value):\n",
    "        raise TypeError\n",
    "    def funcget(self):\n",
    "        return func()\n",
    "    return property(funcget, funcset)\n",
    "\n",
    "class _Const(object):\n",
    "    @constant\n",
    "    def FACEBOOK_TOKEN():\n",
    "        return \"1769775703259571|736fc7f9c5dc31707d40709a1d37813b\"\n",
    " \n",
    "    @constant\n",
    "    def FACEBOOK_POSTS_COUNT():\n",
    "        return 2000\n",
    "    \n",
    "    @constant\n",
    "    def ES_INDEX_PREFIX():\n",
    "        return \"fb_group_posts_\"\n",
    "    \n",
    "    @constant\n",
    "    def ES_POSTS_DOC_TYPE():\n",
    "        return \"post\"\n",
    "\n",
    "CONST = _Const()"
   ]
  },
  {
   "cell_type": "code",
   "execution_count": 30,
   "metadata": {
    "collapsed": true
   },
   "outputs": [],
   "source": [
    "# coding=utf-8\n",
    "from facebook import GraphAPI\n",
    "from elasticsearch import Elasticsearch\n",
    "\n",
    "import time as t\n",
    "import requests"
   ]
  },
  {
   "cell_type": "markdown",
   "metadata": {},
   "source": [
    "Создаем подключение к базе данных"
   ]
  },
  {
   "cell_type": "code",
   "execution_count": 31,
   "metadata": {
    "collapsed": true
   },
   "outputs": [],
   "source": [
    "database = Elasticsearch()"
   ]
  },
  {
   "cell_type": "markdown",
   "metadata": {},
   "source": [
    "Список id-ников груп, для загрузки постов"
   ]
  },
  {
   "cell_type": "code",
   "execution_count": 32,
   "metadata": {
    "collapsed": true
   },
   "outputs": [],
   "source": [
    "groups_ids = [\n",
    "    \"7155422274\",       # cnet\n",
    "    \"338028696036\",     # yahoo news\n",
    "    \"32204506174\",      # city news Toronto\n",
    "    \"122177661170978\",  # news one\n",
    "    \"235852889908002\",  # vice news\n",
    "    \"7245371700\",       # MTV\n",
    "    \"179035672287016\",  # American news\n",
    "]"
   ]
  },
  {
   "cell_type": "markdown",
   "metadata": {},
   "source": [
    "Создаем объект графа для работы с API от facebook"
   ]
  },
  {
   "cell_type": "code",
   "execution_count": 33,
   "metadata": {
    "collapsed": true
   },
   "outputs": [],
   "source": [
    "graph = GraphAPI(access_token=CONST.FACEBOOK_TOKEN)"
   ]
  },
  {
   "cell_type": "markdown",
   "metadata": {},
   "source": [
    "Функция возвращающая текущее время"
   ]
  },
  {
   "cell_type": "code",
   "execution_count": 17,
   "metadata": {
    "collapsed": true
   },
   "outputs": [],
   "source": [
    "def time():\n",
    "    return int(round(t.time() * 1000))"
   ]
  },
  {
   "cell_type": "markdown",
   "metadata": {},
   "source": [
    "Вытаскиваем с пака постов текст сообщений"
   ]
  },
  {
   "cell_type": "code",
   "execution_count": 18,
   "metadata": {
    "collapsed": false
   },
   "outputs": [],
   "source": [
    "def extract_posts_data(posts):\n",
    "    res = []\n",
    "    \n",
    "    for p in posts['data']:\n",
    "        res.append(p)\n",
    "        \n",
    "    return res"
   ]
  },
  {
   "cell_type": "markdown",
   "metadata": {},
   "source": [
    "Подготавливаем ссылку для GET запроса (извлекая его из пака постов) для загрузки следующей страницы"
   ]
  },
  {
   "cell_type": "code",
   "execution_count": 19,
   "metadata": {
    "collapsed": true
   },
   "outputs": [],
   "source": [
    "def prepare_get_posts_request(posts):\n",
    "    return posts['paging']['next'].replace(\"limit=25\", \"limit=100\")"
   ]
  },
  {
   "cell_type": "markdown",
   "metadata": {},
   "source": [
    "Последовательно загружаем посты от указанного пака"
   ]
  },
  {
   "cell_type": "code",
   "execution_count": 20,
   "metadata": {
    "collapsed": true
   },
   "outputs": [],
   "source": [
    "# noinspection PyShadowingNames\n",
    "def load_posts_pages(posts, max_count):\n",
    "    res = []\n",
    "    count = 0\n",
    "\n",
    "    while True:\n",
    "        if count > max_count:\n",
    "            break\n",
    "\n",
    "        try:\n",
    "            res.extend(extract_posts_data(posts))\n",
    "\n",
    "            request = prepare_get_posts_request(posts)\n",
    "\n",
    "            s_time = time() \n",
    "            posts = requests.get(request).json()\n",
    "            f_time = time()\n",
    "\n",
    "            posts_count = len(posts['data'])\n",
    "            count += posts_count\n",
    "\n",
    "            print \"load page time:\", (f_time - s_time), \", page size:\", posts_count, \", all count: \", count\n",
    "        except KeyError:\n",
    "            break\n",
    "\n",
    "    print \"extracted posts count: \", count\n",
    "    print \"--------------------------------\"\n",
    "\n",
    "    return res"
   ]
  },
  {
   "cell_type": "markdown",
   "metadata": {},
   "source": [
    "Сохранение постов в базу данных"
   ]
  },
  {
   "cell_type": "code",
   "execution_count": 34,
   "metadata": {
    "collapsed": true
   },
   "outputs": [],
   "source": [
    "def save_posts(index, posts):\n",
    "    for post in posts:\n",
    "        database.index(index=index, doc_type=CONST.ES_POSTS_DOC_TYPE, id=post['id'], body=post)"
   ]
  },
  {
   "cell_type": "markdown",
   "metadata": {},
   "source": [
    "Вытаскиваем имя группы с данных о группе"
   ]
  },
  {
   "cell_type": "code",
   "execution_count": 22,
   "metadata": {
    "collapsed": true
   },
   "outputs": [],
   "source": [
    "def extract_group_name(group):\n",
    "    return group['name'].decode('utf-8').lower().replace(\" \", \"_\")"
   ]
  },
  {
   "cell_type": "markdown",
   "metadata": {},
   "source": [
    "Сохранение постов группы"
   ]
  },
  {
   "cell_type": "code",
   "execution_count": 23,
   "metadata": {
    "collapsed": true
   },
   "outputs": [],
   "source": [
    "# noinspection PyShadowingNames\n",
    "def save_group_posts(graph, group_id):\n",
    "    s_time = time()\n",
    "    group = graph.get_object(group_id)\n",
    "    f_time = time()\n",
    "\n",
    "    print \"load group data time: \", str(f_time - s_time)\n",
    "\n",
    "    group_name = extract_group_name(group)\n",
    "\n",
    "    print \"downloading posts from: \", group_name\n",
    "\n",
    "    posts = graph.get_connections(group['id'], 'feed')\n",
    "    posts_data = load_posts_pages(posts=posts, max_count=CONST.FACEBOOK_POSTS_COUNT)\n",
    "    index = CONST.ES_INDEX_PREFIX + group_name + \"_\" + group_id\n",
    "    save_posts(index, posts_data)\n",
    "  "
   ]
  },
  {
   "cell_type": "markdown",
   "metadata": {},
   "source": [
    "Запускаем процесс загрузки постов по заготовленным id групп"
   ]
  },
  {
   "cell_type": "code",
   "execution_count": 24,
   "metadata": {
    "collapsed": false
   },
   "outputs": [
    {
     "name": "stdout",
     "output_type": "stream",
     "text": [
      "load group data time:  594\n",
      "downloading posts from:  cnet\n",
      "load page time: 2358 , page size: 100 , all count:  100\n",
      "load page time: 2730 , page size: 100 , all count:  200\n",
      "load page time: 1521 , page size: 100 , all count:  300\n",
      "load page time: 1831 , page size: 100 , all count:  400\n",
      "load page time: 1990 , page size: 100 , all count:  500\n",
      "load page time: 1296 , page size: 100 , all count:  600\n",
      "load page time: 1898 , page size: 100 , all count:  700\n",
      "load page time: 1646 , page size: 100 , all count:  800\n",
      "load page time: 2377 , page size: 100 , all count:  900\n",
      "load page time: 1906 , page size: 100 , all count:  1000\n",
      "load page time: 1597 , page size: 100 , all count:  1100\n",
      "load page time: 2345 , page size: 100 , all count:  1200\n",
      "load page time: 3178 , page size: 100 , all count:  1300\n",
      "load page time: 2236 , page size: 100 , all count:  1400\n",
      "load page time: 2541 , page size: 100 , all count:  1500\n",
      "load page time: 2662 , page size: 100 , all count:  1600\n",
      "load page time: 2995 , page size: 100 , all count:  1700\n",
      "load page time: 3156 , page size: 100 , all count:  1800\n",
      "load page time: 2817 , page size: 100 , all count:  1900\n",
      "load page time: 2931 , page size: 100 , all count:  2000\n",
      "load page time: 2885 , page size: 100 , all count:  2100\n",
      "extracted posts count:  2100\n",
      "--------------------------------\n",
      "load group data time:  1371\n",
      "downloading posts from:  yahoo_news\n",
      "load page time: 1497 , page size: 100 , all count:  100\n",
      "load page time: 2179 , page size: 100 , all count:  200\n",
      "load page time: 85763 , page size: 100 , all count:  300\n",
      "load page time: 2703 , page size: 100 , all count:  400\n",
      "load page time: 1599 , page size: 100 , all count:  500\n",
      "load page time: 2169 , page size: 100 , all count:  600\n",
      "load page time: 1318 , page size: 100 , all count:  700\n",
      "load page time: 1919 , page size: 100 , all count:  800\n",
      "load page time: 1458 , page size: 100 , all count:  900\n",
      "load page time: 2054 , page size: 100 , all count:  1000\n",
      "load page time: 2055 , page size: 100 , all count:  1100\n",
      "load page time: 3165 , page size: 100 , all count:  1200\n",
      "load page time: 1594 , page size: 100 , all count:  1300\n",
      "load page time: 2219 , page size: 100 , all count:  1400\n",
      "load page time: 2460 , page size: 100 , all count:  1500\n",
      "load page time: 2066 , page size: 100 , all count:  1600\n",
      "load page time: 2113 , page size: 100 , all count:  1700\n",
      "load page time: 2148 , page size: 100 , all count:  1800\n",
      "load page time: 1843 , page size: 100 , all count:  1900\n",
      "load page time: 2722 , page size: 100 , all count:  2000\n",
      "load page time: 1992 , page size: 100 , all count:  2100\n",
      "extracted posts count:  2100\n",
      "--------------------------------\n",
      "load group data time:  691\n",
      "downloading posts from:  citynews_toronto\n",
      "load page time: 1859 , page size: 100 , all count:  100\n",
      "load page time: 1758 , page size: 100 , all count:  200\n",
      "load page time: 1591 , page size: 100 , all count:  300\n",
      "load page time: 1877 , page size: 100 , all count:  400\n",
      "load page time: 1694 , page size: 100 , all count:  500\n",
      "load page time: 3201 , page size: 100 , all count:  600\n",
      "load page time: 14554 , page size: 100 , all count:  700\n",
      "load page time: 5874 , page size: 100 , all count:  800\n",
      "load page time: 2598 , page size: 100 , all count:  900\n",
      "load page time: 2924 , page size: 100 , all count:  1000\n",
      "load page time: 2145 , page size: 100 , all count:  1100\n",
      "load page time: 3493 , page size: 100 , all count:  1200\n",
      "load page time: 1598 , page size: 100 , all count:  1300\n",
      "load page time: 3623 , page size: 100 , all count:  1400\n",
      "load page time: 1737 , page size: 100 , all count:  1500\n",
      "load page time: 1872 , page size: 100 , all count:  1600\n",
      "load page time: 2142 , page size: 100 , all count:  1700\n",
      "load page time: 4280 , page size: 100 , all count:  1800\n",
      "load page time: 1754 , page size: 100 , all count:  1900\n",
      "load page time: 2027 , page size: 100 , all count:  2000\n",
      "load page time: 1774 , page size: 100 , all count:  2100\n",
      "extracted posts count:  2100\n",
      "--------------------------------\n",
      "load group data time:  1606\n",
      "downloading posts from:  newsone\n",
      "load page time: 1221 , page size: 100 , all count:  100\n",
      "load page time: 1587 , page size: 100 , all count:  200\n",
      "load page time: 1805 , page size: 100 , all count:  300\n",
      "load page time: 1825 , page size: 100 , all count:  400\n",
      "load page time: 2035 , page size: 100 , all count:  500\n",
      "load page time: 1938 , page size: 100 , all count:  600\n",
      "load page time: 2213 , page size: 100 , all count:  700\n",
      "load page time: 2134 , page size: 100 , all count:  800\n",
      "load page time: 1918 , page size: 100 , all count:  900\n",
      "load page time: 1869 , page size: 100 , all count:  1000\n",
      "load page time: 1810 , page size: 100 , all count:  1100\n",
      "load page time: 4136 , page size: 100 , all count:  1200\n",
      "load page time: 2312 , page size: 100 , all count:  1300\n",
      "load page time: 1991 , page size: 100 , all count:  1400\n",
      "load page time: 2242 , page size: 100 , all count:  1500\n",
      "load page time: 2062 , page size: 100 , all count:  1600\n",
      "load page time: 5838 , page size: 100 , all count:  1700\n",
      "load page time: 6122 , page size: 100 , all count:  1800\n",
      "load page time: 5013 , page size: 100 , all count:  1900\n",
      "load page time: 2263 , page size: 100 , all count:  2000\n",
      "load page time: 1992 , page size: 100 , all count:  2100\n",
      "extracted posts count:  2100\n",
      "--------------------------------\n",
      "load group data time:  668\n",
      "downloading posts from:  vice_news\n",
      "load page time: 1427 , page size: 100 , all count:  100\n",
      "load page time: 1477 , page size: 100 , all count:  200\n",
      "load page time: 2072 , page size: 100 , all count:  300\n",
      "load page time: 1846 , page size: 100 , all count:  400\n",
      "load page time: 2150 , page size: 100 , all count:  500\n",
      "load page time: 1842 , page size: 100 , all count:  600\n",
      "load page time: 2434 , page size: 100 , all count:  700\n",
      "load page time: 2306 , page size: 100 , all count:  800\n",
      "load page time: 2099 , page size: 100 , all count:  900\n",
      "load page time: 44676 , page size: 100 , all count:  1000\n",
      "load page time: 2582 , page size: 100 , all count:  1100\n",
      "load page time: 1921 , page size: 100 , all count:  1200\n",
      "load page time: 1767 , page size: 100 , all count:  1300\n",
      "load page time: 1734 , page size: 100 , all count:  1400\n",
      "load page time: 1621 , page size: 100 , all count:  1500\n",
      "load page time: 1641 , page size: 100 , all count:  1600\n",
      "load page time: 2380 , page size: 100 , all count:  1700\n",
      "load page time: 2155 , page size: 100 , all count:  1800\n",
      "load page time: 2147 , page size: 100 , all count:  1900\n",
      "load page time: 2151 , page size: 100 , all count:  2000\n",
      "load page time: 2228 , page size: 100 , all count:  2100\n",
      "extracted posts count:  2100\n",
      "--------------------------------\n",
      "load group data time:  4317\n",
      "downloading posts from:  mtv\n",
      "load page time: 983 , page size: 100 , all count:  100\n",
      "load page time: 1334 , page size: 100 , all count:  200\n",
      "load page time: 1229 , page size: 100 , all count:  300\n",
      "load page time: 1228 , page size: 100 , all count:  400\n",
      "load page time: 2867 , page size: 100 , all count:  500\n",
      "load page time: 2026 , page size: 100 , all count:  600\n",
      "load page time: 1896 , page size: 100 , all count:  700\n",
      "load page time: 2435 , page size: 100 , all count:  800\n",
      "load page time: 2150 , page size: 100 , all count:  900\n",
      "load page time: 2772 , page size: 100 , all count:  1000\n",
      "load page time: 2117 , page size: 100 , all count:  1100\n",
      "load page time: 2177 , page size: 100 , all count:  1200\n",
      "load page time: 2063 , page size: 100 , all count:  1300\n",
      "load page time: 1930 , page size: 100 , all count:  1400\n",
      "load page time: 2151 , page size: 100 , all count:  1500\n",
      "load page time: 2151 , page size: 100 , all count:  1600\n",
      "load page time: 2127 , page size: 100 , all count:  1700\n",
      "load page time: 1841 , page size: 100 , all count:  1800\n",
      "load page time: 1848 , page size: 100 , all count:  1900\n",
      "load page time: 2178 , page size: 100 , all count:  2000\n",
      "load page time: 2145 , page size: 100 , all count:  2100\n",
      "extracted posts count:  2100\n",
      "--------------------------------\n",
      "load group data time:  1579\n",
      "downloading posts from:  american_news\n",
      "load page time: 1395 , page size: 100 , all count:  100\n",
      "load page time: 1947 , page size: 100 , all count:  200\n",
      "load page time: 1925 , page size: 100 , all count:  300\n",
      "load page time: 1762 , page size: 100 , all count:  400\n",
      "load page time: 1843 , page size: 100 , all count:  500\n",
      "load page time: 1844 , page size: 100 , all count:  600\n",
      "load page time: 1843 , page size: 100 , all count:  700\n",
      "load page time: 1844 , page size: 100 , all count:  800\n",
      "load page time: 1844 , page size: 100 , all count:  900\n",
      "load page time: 1510 , page size: 100 , all count:  1000\n",
      "load page time: 1874 , page size: 100 , all count:  1100\n",
      "load page time: 1507 , page size: 100 , all count:  1200\n",
      "load page time: 1869 , page size: 100 , all count:  1300\n",
      "load page time: 1844 , page size: 100 , all count:  1400\n",
      "load page time: 1537 , page size: 100 , all count:  1500\n",
      "load page time: 1535 , page size: 100 , all count:  1600\n",
      "load page time: 1819 , page size: 100 , all count:  1700\n",
      "load page time: 1873 , page size: 100 , all count:  1800\n",
      "load page time: 1848 , page size: 100 , all count:  1900\n",
      "load page time: 1501 , page size: 100 , all count:  2000\n",
      "load page time: 1537 , page size: 100 , all count:  2100\n",
      "extracted posts count:  2100\n",
      "--------------------------------\n"
     ]
    }
   ],
   "source": [
    "for group_id in groups_ids:\n",
    "    save_group_posts(graph=graph, group_id=group_id)"
   ]
  },
  {
   "cell_type": "code",
   "execution_count": null,
   "metadata": {
    "collapsed": true
   },
   "outputs": [],
   "source": []
  },
  {
   "cell_type": "code",
   "execution_count": null,
   "metadata": {
    "collapsed": true
   },
   "outputs": [],
   "source": []
  }
 ],
 "metadata": {
  "anaconda-cloud": {},
  "kernelspec": {
   "display_name": "Python [Root]",
   "language": "python",
   "name": "Python [Root]"
  },
  "language_info": {
   "codemirror_mode": {
    "name": "ipython",
    "version": 2
   },
   "file_extension": ".py",
   "mimetype": "text/x-python",
   "name": "python",
   "nbconvert_exporter": "python",
   "pygments_lexer": "ipython2",
   "version": "2.7.12"
  }
 },
 "nbformat": 4,
 "nbformat_minor": 0
}
