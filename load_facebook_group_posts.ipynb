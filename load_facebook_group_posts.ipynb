{
 "cells": [
  {
   "cell_type": "markdown",
   "metadata": {},
   "source": [
    "Загрузка постов с facebook\n",
    "------------"
   ]
  },
  {
   "cell_type": "code",
   "execution_count": 67,
   "metadata": {
    "collapsed": true
   },
   "outputs": [],
   "source": [
    "# coding=utf-8\n",
    "from facebook import GraphAPI\n",
    "from elasticsearch import Elasticsearch\n",
    "\n",
    "import time as t\n",
    "import requests\n",
    "\n",
    "index_prefix = \"fb_group_posts_\"\n",
    "posts_count = 2000\n",
    "doc_type = \"posts\""
   ]
  },
  {
   "cell_type": "markdown",
   "metadata": {},
   "source": [
    "Создаем подключение к базе данных"
   ]
  },
  {
   "cell_type": "code",
   "execution_count": 68,
   "metadata": {
    "collapsed": true
   },
   "outputs": [],
   "source": [
    "database = Elasticsearch()"
   ]
  },
  {
   "cell_type": "markdown",
   "metadata": {},
   "source": [
    "Список id-ников груп, для загрузки постов"
   ]
  },
  {
   "cell_type": "code",
   "execution_count": 69,
   "metadata": {
    "collapsed": true
   },
   "outputs": [],
   "source": [
    "groups_ids = [\n",
    "    \"7155422274\",       # cnet\n",
    "    \"338028696036\",     # yahoo news\n",
    "    \"32204506174\",      # city news Toronto\n",
    "    \"122177661170978\",  # news one\n",
    "    \"235852889908002\",  # vice news\n",
    "    \"7245371700\",       # MTV\n",
    "    \"179035672287016\",  # American news\n",
    "]"
   ]
  },
  {
   "cell_type": "markdown",
   "metadata": {},
   "source": [
    "Создаем объект графа для работы с API от facebook"
   ]
  },
  {
   "cell_type": "code",
   "execution_count": 70,
   "metadata": {
    "collapsed": true
   },
   "outputs": [],
   "source": [
    "graph = GraphAPI(access_token=\"1769775703259571|736fc7f9c5dc31707d40709a1d37813b\")"
   ]
  },
  {
   "cell_type": "markdown",
   "metadata": {},
   "source": [
    "Функция возвращающая текущее время"
   ]
  },
  {
   "cell_type": "code",
   "execution_count": 71,
   "metadata": {
    "collapsed": true
   },
   "outputs": [],
   "source": [
    "def time():\n",
    "    return int(round(t.time() * 1000))"
   ]
  },
  {
   "cell_type": "markdown",
   "metadata": {},
   "source": [
    "Вытаскиваем с пака постов текст сообщений"
   ]
  },
  {
   "cell_type": "code",
   "execution_count": 72,
   "metadata": {
    "collapsed": false
   },
   "outputs": [],
   "source": [
    "def extract_posts_data(posts):\n",
    "    res = []\n",
    "    \n",
    "    for p in posts['data']:\n",
    "        res.append(p)\n",
    "        \n",
    "    return res"
   ]
  },
  {
   "cell_type": "markdown",
   "metadata": {},
   "source": [
    "Подготавливаем ссылку для GET запроса (извлекая его из пака постов) для загрузки следующей страницы"
   ]
  },
  {
   "cell_type": "code",
   "execution_count": 73,
   "metadata": {
    "collapsed": true
   },
   "outputs": [],
   "source": [
    "def prepare_get_posts_request(posts):\n",
    "    return posts['paging']['next'].replace(\"limit=25\", \"limit=100\")"
   ]
  },
  {
   "cell_type": "markdown",
   "metadata": {},
   "source": [
    "Последовательно загружаем посты от указанного пака"
   ]
  },
  {
   "cell_type": "code",
   "execution_count": 74,
   "metadata": {
    "collapsed": true
   },
   "outputs": [],
   "source": [
    "# noinspection PyShadowingNames\n",
    "def load_posts_pages(posts, max_count):\n",
    "    res = []\n",
    "    count = 0\n",
    "\n",
    "    while True:\n",
    "        if count > max_count:\n",
    "            break\n",
    "\n",
    "        try:\n",
    "            res.extend(extract_posts_data(posts))\n",
    "\n",
    "            request = prepare_get_posts_request(posts)\n",
    "\n",
    "            s_time = time() \n",
    "            posts = requests.get(request).json()\n",
    "            f_time = time()\n",
    "\n",
    "            posts_count = len(posts['data'])\n",
    "            count += posts_count\n",
    "\n",
    "            print \"load page time:\", (f_time - s_time), \", page size:\", posts_count, \", all count: \", count\n",
    "        except KeyError:\n",
    "            break\n",
    "\n",
    "    print \"extracted posts count: \", count\n",
    "    print \"--------------------------------\"\n",
    "\n",
    "    return res"
   ]
  },
  {
   "cell_type": "markdown",
   "metadata": {},
   "source": [
    "Сохранение постов в базу данных"
   ]
  },
  {
   "cell_type": "code",
   "execution_count": 75,
   "metadata": {
    "collapsed": true
   },
   "outputs": [],
   "source": [
    "def save_posts(index, posts):\n",
    "    for post in posts:\n",
    "        database.index(index=index, doc_type=doc_type, id=post['id'], body=post)"
   ]
  },
  {
   "cell_type": "markdown",
   "metadata": {},
   "source": [
    "Вытаскиваем имя группы с данных о группе"
   ]
  },
  {
   "cell_type": "code",
   "execution_count": 76,
   "metadata": {
    "collapsed": true
   },
   "outputs": [],
   "source": [
    "def extract_group_name(group):\n",
    "    return group['name'].decode('utf-8').lower().replace(\" \", \"_\")"
   ]
  },
  {
   "cell_type": "markdown",
   "metadata": {},
   "source": [
    "Сохранение постов группы"
   ]
  },
  {
   "cell_type": "code",
   "execution_count": 77,
   "metadata": {
    "collapsed": true
   },
   "outputs": [],
   "source": [
    "# noinspection PyShadowingNames\n",
    "def save_group_posts(graph, group_id):\n",
    "    s_time = time()\n",
    "    group = graph.get_object(group_id)\n",
    "    f_time = time()\n",
    "\n",
    "    print \"load group data time: \", str(f_time - s_time)\n",
    "\n",
    "    group_name = extract_group_name(group)\n",
    "\n",
    "    print \"downloading posts from: \", group_name\n",
    "\n",
    "    posts = graph.get_connections(group['id'], 'feed')\n",
    "    posts_data = load_posts_pages(posts=posts, max_count=posts_count)\n",
    "    index = index_prefix + group_name + \"_\" + group_id\n",
    "    save_posts(index, posts_data)\n",
    "  "
   ]
  },
  {
   "cell_type": "markdown",
   "metadata": {},
   "source": [
    "Запускаем процесс загрузки постов по заготовленным id групп"
   ]
  },
  {
   "cell_type": "code",
   "execution_count": 78,
   "metadata": {
    "collapsed": false
   },
   "outputs": [
    {
     "name": "stdout",
     "output_type": "stream",
     "text": [
      "load group data time:  206\n",
      "downloading posts from:  cnet\n",
      "load page time: 856 , page size: 100 , all count:  100\n",
      "load page time: 1022 , page size: 100 , all count:  200\n",
      "load page time: 1124 , page size: 100 , all count:  300\n",
      "load page time: 1024 , page size: 100 , all count:  400\n",
      "load page time: 1024 , page size: 100 , all count:  500\n",
      "load page time: 1142 , page size: 100 , all count:  600\n",
      "load page time: 1122 , page size: 100 , all count:  700\n",
      "load page time: 1227 , page size: 100 , all count:  800\n",
      "load page time: 1238 , page size: 100 , all count:  900\n",
      "load page time: 1321 , page size: 100 , all count:  1000\n",
      "load page time: 1321 , page size: 100 , all count:  1100\n",
      "load page time: 1623 , page size: 100 , all count:  1200\n",
      "load page time: 1245 , page size: 100 , all count:  1300\n",
      "load page time: 1127 , page size: 100 , all count:  1400\n",
      "load page time: 1228 , page size: 100 , all count:  1500\n",
      "load page time: 1331 , page size: 100 , all count:  1600\n",
      "load page time: 1228 , page size: 100 , all count:  1700\n",
      "load page time: 1332 , page size: 100 , all count:  1800\n",
      "load page time: 1451 , page size: 100 , all count:  1900\n",
      "load page time: 1518 , page size: 100 , all count:  2000\n",
      "load page time: 1332 , page size: 100 , all count:  2100\n",
      "extracted posts count:  2100\n",
      "--------------------------------\n",
      "load group data time:  219\n",
      "downloading posts from:  yahoo_news\n",
      "load page time: 835 , page size: 100 , all count:  100\n",
      "load page time: 819 , page size: 100 , all count:  200\n",
      "load page time: 789 , page size: 100 , all count:  300\n",
      "load page time: 951 , page size: 100 , all count:  400\n",
      "load page time: 819 , page size: 100 , all count:  500\n",
      "load page time: 1093 , page size: 100 , all count:  600\n",
      "load page time: 736 , page size: 100 , all count:  700\n",
      "load page time: 1005 , page size: 100 , all count:  800\n",
      "load page time: 1022 , page size: 100 , all count:  900\n",
      "load page time: 1025 , page size: 100 , all count:  1000\n",
      "load page time: 921 , page size: 100 , all count:  1100\n",
      "load page time: 1161 , page size: 100 , all count:  1200\n",
      "load page time: 1127 , page size: 100 , all count:  1300\n",
      "load page time: 1127 , page size: 100 , all count:  1400\n",
      "load page time: 1193 , page size: 100 , all count:  1500\n",
      "load page time: 1039 , page size: 100 , all count:  1600\n",
      "load page time: 1145 , page size: 100 , all count:  1700\n",
      "load page time: 991 , page size: 100 , all count:  1800\n",
      "load page time: 1149 , page size: 100 , all count:  1900\n",
      "load page time: 1138 , page size: 100 , all count:  2000\n",
      "load page time: 1227 , page size: 100 , all count:  2100\n",
      "extracted posts count:  2100\n",
      "--------------------------------\n",
      "load group data time:  207\n",
      "downloading posts from:  citynews_toronto\n",
      "load page time: 1230 , page size: 100 , all count:  100\n",
      "load page time: 1342 , page size: 100 , all count:  200\n",
      "load page time: 1326 , page size: 100 , all count:  300\n",
      "load page time: 1427 , page size: 100 , all count:  400\n",
      "load page time: 1536 , page size: 100 , all count:  500\n",
      "load page time: 1536 , page size: 100 , all count:  600\n",
      "load page time: 1433 , page size: 100 , all count:  700\n",
      "load page time: 1331 , page size: 100 , all count:  800\n",
      "load page time: 1332 , page size: 100 , all count:  900\n",
      "load page time: 1331 , page size: 100 , all count:  1000\n",
      "load page time: 1229 , page size: 100 , all count:  1100\n",
      "load page time: 1349 , page size: 100 , all count:  1200\n",
      "load page time: 1209 , page size: 100 , all count:  1300\n",
      "load page time: 1434 , page size: 100 , all count:  1400\n",
      "load page time: 1433 , page size: 100 , all count:  1500\n",
      "load page time: 1341 , page size: 100 , all count:  1600\n",
      "load page time: 1733 , page size: 100 , all count:  1700\n",
      "load page time: 1944 , page size: 100 , all count:  1800\n",
      "load page time: 1228 , page size: 100 , all count:  1900\n",
      "load page time: 1230 , page size: 100 , all count:  2000\n",
      "load page time: 1126 , page size: 100 , all count:  2100\n",
      "extracted posts count:  2100\n",
      "--------------------------------\n",
      "load group data time:  249\n",
      "downloading posts from:  newsone\n",
      "load page time: 699 , page size: 100 , all count:  100\n",
      "load page time: 1758 , page size: 100 , all count:  200\n",
      "load page time: 1640 , page size: 100 , all count:  300\n",
      "load page time: 1739 , page size: 100 , all count:  400\n",
      "load page time: 1947 , page size: 100 , all count:  500\n",
      "load page time: 1635 , page size: 100 , all count:  600\n",
      "load page time: 1434 , page size: 100 , all count:  700\n",
      "load page time: 1503 , page size: 100 , all count:  800\n",
      "load page time: 1450 , page size: 100 , all count:  900\n",
      "load page time: 1622 , page size: 100 , all count:  1000\n",
      "load page time: 1654 , page size: 100 , all count:  1100\n",
      "load page time: 1628 , page size: 100 , all count:  1200\n",
      "load page time: 1427 , page size: 100 , all count:  1300\n",
      "load page time: 1477 , page size: 100 , all count:  1400\n",
      "load page time: 1389 , page size: 100 , all count:  1500\n",
      "load page time: 1741 , page size: 100 , all count:  1600\n",
      "load page time: 1433 , page size: 100 , all count:  1700\n",
      "load page time: 1467 , page size: 100 , all count:  1800\n",
      "load page time: 1534 , page size: 100 , all count:  1900\n",
      "load page time: 1757 , page size: 100 , all count:  2000\n",
      "load page time: 1590 , page size: 100 , all count:  2100\n",
      "extracted posts count:  2100\n",
      "--------------------------------\n",
      "load group data time:  215\n",
      "downloading posts from:  vice_news\n",
      "load page time: 996 , page size: 100 , all count:  100\n",
      "load page time: 1056 , page size: 100 , all count:  200\n",
      "load page time: 1196 , page size: 100 , all count:  300\n",
      "load page time: 1207 , page size: 100 , all count:  400\n",
      "load page time: 1250 , page size: 100 , all count:  500\n",
      "load page time: 1268 , page size: 100 , all count:  600\n",
      "load page time: 1302 , page size: 100 , all count:  700\n",
      "load page time: 1320 , page size: 100 , all count:  800\n",
      "load page time: 1331 , page size: 100 , all count:  900\n",
      "load page time: 1433 , page size: 100 , all count:  1000\n",
      "load page time: 1434 , page size: 100 , all count:  1100\n",
      "load page time: 1246 , page size: 100 , all count:  1200\n",
      "load page time: 1757 , page size: 100 , all count:  1300\n",
      "load page time: 1197 , page size: 100 , all count:  1400\n",
      "load page time: 1329 , page size: 100 , all count:  1500\n",
      "load page time: 1434 , page size: 100 , all count:  1600\n",
      "load page time: 1434 , page size: 100 , all count:  1700\n",
      "load page time: 1433 , page size: 100 , all count:  1800\n",
      "load page time: 1432 , page size: 100 , all count:  1900\n",
      "load page time: 1331 , page size: 100 , all count:  2000\n",
      "load page time: 1433 , page size: 100 , all count:  2100\n",
      "extracted posts count:  2100\n",
      "--------------------------------\n",
      "load group data time:  630\n",
      "downloading posts from:  mtv\n",
      "load page time: 625 , page size: 100 , all count:  100\n",
      "load page time: 717 , page size: 100 , all count:  200\n",
      "load page time: 614 , page size: 100 , all count:  300\n",
      "load page time: 567 , page size: 100 , all count:  400\n",
      "load page time: 1379 , page size: 100 , all count:  500\n",
      "load page time: 2050 , page size: 100 , all count:  600\n",
      "load page time: 1536 , page size: 100 , all count:  700\n",
      "load page time: 1551 , page size: 100 , all count:  800\n",
      "load page time: 1621 , page size: 100 , all count:  900\n",
      "load page time: 1638 , page size: 100 , all count:  1000\n",
      "load page time: 1638 , page size: 100 , all count:  1100\n",
      "load page time: 1741 , page size: 100 , all count:  1200\n",
      "load page time: 1740 , page size: 100 , all count:  1300\n",
      "load page time: 1638 , page size: 100 , all count:  1400\n",
      "load page time: 1741 , page size: 100 , all count:  1500\n",
      "load page time: 1691 , page size: 100 , all count:  1600\n",
      "load page time: 1893 , page size: 100 , all count:  1700\n",
      "load page time: 1640 , page size: 100 , all count:  1800\n",
      "load page time: 1739 , page size: 100 , all count:  1900\n",
      "load page time: 1536 , page size: 100 , all count:  2000\n",
      "load page time: 1661 , page size: 100 , all count:  2100\n",
      "extracted posts count:  2100\n",
      "--------------------------------\n",
      "load group data time:  195\n",
      "downloading posts from:  american_news\n",
      "load page time: 607 , page size: 100 , all count:  100\n",
      "load page time: 1331 , page size: 100 , all count:  200\n",
      "load page time: 1024 , page size: 100 , all count:  300\n",
      "load page time: 1024 , page size: 100 , all count:  400\n",
      "load page time: 1033 , page size: 100 , all count:  500\n",
      "load page time: 928 , page size: 100 , all count:  600\n",
      "load page time: 907 , page size: 100 , all count:  700\n",
      "load page time: 922 , page size: 100 , all count:  800\n",
      "load page time: 919 , page size: 100 , all count:  900\n",
      "load page time: 1026 , page size: 99 , all count:  999\n",
      "load page time: 1742 , page size: 100 , all count:  1099\n",
      "load page time: 1022 , page size: 100 , all count:  1199\n",
      "load page time: 921 , page size: 100 , all count:  1299\n",
      "load page time: 1024 , page size: 100 , all count:  1399\n",
      "load page time: 1024 , page size: 100 , all count:  1499\n",
      "load page time: 1024 , page size: 100 , all count:  1599\n",
      "load page time: 891 , page size: 100 , all count:  1699\n",
      "load page time: 955 , page size: 100 , all count:  1799\n",
      "load page time: 1020 , page size: 100 , all count:  1899\n",
      "load page time: 1025 , page size: 99 , all count:  1998\n",
      "load page time: 1433 , page size: 100 , all count:  2098\n",
      "extracted posts count:  2098\n",
      "--------------------------------\n"
     ]
    }
   ],
   "source": [
    "for group_id in groups_ids:\n",
    "    save_group_posts(graph=graph, group_id=group_id)"
   ]
  },
  {
   "cell_type": "code",
   "execution_count": null,
   "metadata": {
    "collapsed": true
   },
   "outputs": [],
   "source": []
  },
  {
   "cell_type": "code",
   "execution_count": null,
   "metadata": {
    "collapsed": true
   },
   "outputs": [],
   "source": []
  }
 ],
 "metadata": {
  "anaconda-cloud": {},
  "kernelspec": {
   "display_name": "Python [Root]",
   "language": "python",
   "name": "Python [Root]"
  },
  "language_info": {
   "codemirror_mode": {
    "name": "ipython",
    "version": 2
   },
   "file_extension": ".py",
   "mimetype": "text/x-python",
   "name": "python",
   "nbconvert_exporter": "python",
   "pygments_lexer": "ipython2",
   "version": "2.7.12"
  }
 },
 "nbformat": 4,
 "nbformat_minor": 0
}
