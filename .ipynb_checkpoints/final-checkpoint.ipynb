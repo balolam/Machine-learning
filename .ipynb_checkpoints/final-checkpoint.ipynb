{
 "cells": [
  {
   "cell_type": "markdown",
   "metadata": {},
   "source": [
    "Загрузка постов с facebook\n",
    "------------"
   ]
  },
  {
   "cell_type": "code",
   "execution_count": 1,
   "metadata": {
    "collapsed": true
   },
   "outputs": [],
   "source": [
    "# coding=utf-8\n",
    "from facebook import GraphAPI\n",
    "from elasticsearch import Elasticsearch\n",
    "\n",
    "import time as t\n",
    "import requests\n",
    "\n",
    "index_prefix = \"fb_group_posts_\"\n",
    "posts_count = 2000\n",
    "doc_type = \"posts\""
   ]
  },
  {
   "cell_type": "markdown",
   "metadata": {},
   "source": [
    "Создаем подключение к базе данных"
   ]
  },
  {
   "cell_type": "code",
   "execution_count": 2,
   "metadata": {
    "collapsed": true
   },
   "outputs": [],
   "source": [
    "database = Elasticsearch()"
   ]
  },
  {
   "cell_type": "markdown",
   "metadata": {},
   "source": [
    "Список id-ников груп, для загрузки постов"
   ]
  },
  {
   "cell_type": "code",
   "execution_count": 3,
   "metadata": {
    "collapsed": true
   },
   "outputs": [],
   "source": [
    "groups_ids = [\n",
    "    \"7155422274\",       # cnet\n",
    "    \"338028696036\",     # yahoo news\n",
    "    \"32204506174\",      # city news Toronto\n",
    "    \"122177661170978\",  # news one\n",
    "    \"235852889908002\",  # vice news\n",
    "    \"7245371700\",       # MTV\n",
    "    \"179035672287016\",  # American news\n",
    "]"
   ]
  },
  {
   "cell_type": "markdown",
   "metadata": {},
   "source": [
    "Создаем объект графа для работы с API от facebook"
   ]
  },
  {
   "cell_type": "code",
   "execution_count": 4,
   "metadata": {
    "collapsed": true
   },
   "outputs": [],
   "source": [
    "graph = GraphAPI(access_token=\"1769775703259571|736fc7f9c5dc31707d40709a1d37813b\")"
   ]
  },
  {
   "cell_type": "markdown",
   "metadata": {},
   "source": [
    "Функция возвращающая текущее время"
   ]
  },
  {
   "cell_type": "code",
   "execution_count": 5,
   "metadata": {
    "collapsed": true
   },
   "outputs": [],
   "source": [
    "def time():\n",
    "    return int(round(t.time() * 1000))"
   ]
  },
  {
   "cell_type": "markdown",
   "metadata": {},
   "source": [
    "Вытаскиваем с пака постов текст сообщений"
   ]
  },
  {
   "cell_type": "code",
   "execution_count": 6,
   "metadata": {
    "collapsed": false
   },
   "outputs": [],
   "source": [
    "def extract_posts_data(posts):\n",
    "    res = []\n",
    "    \n",
    "    for p in posts['data']:\n",
    "        res.append(p)\n",
    "        \n",
    "    return res"
   ]
  },
  {
   "cell_type": "markdown",
   "metadata": {},
   "source": [
    "Подготавливаем ссылку для GET запроса (извлекая его из пака постов) для загрузки следующей страницы"
   ]
  },
  {
   "cell_type": "code",
   "execution_count": 7,
   "metadata": {
    "collapsed": true
   },
   "outputs": [],
   "source": [
    "def prepare_get_posts_request(posts):\n",
    "    return posts['paging']['next'].replace(\"limit=25\", \"limit=100\")"
   ]
  },
  {
   "cell_type": "markdown",
   "metadata": {},
   "source": [
    "Последовательно загружаем посты от указанного пака"
   ]
  },
  {
   "cell_type": "code",
   "execution_count": 8,
   "metadata": {
    "collapsed": true
   },
   "outputs": [],
   "source": [
    "# noinspection PyShadowingNames\n",
    "def load_posts_pages(posts, max_count):\n",
    "    res = []\n",
    "    count = 0\n",
    "\n",
    "    while True:\n",
    "        if count > max_count:\n",
    "            break\n",
    "\n",
    "        try:\n",
    "            res.extend(extract_posts_data(posts))\n",
    "\n",
    "            request = prepare_get_posts_request(posts)\n",
    "\n",
    "            s_time = time() \n",
    "            posts = requests.get(request).json()\n",
    "            f_time = time()\n",
    "\n",
    "            posts_count = len(posts['data'])\n",
    "            count += posts_count\n",
    "\n",
    "            print \"load page time:\", (f_time - s_time), \", page size:\", posts_count, \", all count: \", count\n",
    "        except KeyError:\n",
    "            break\n",
    "\n",
    "    print \"extracted posts count: \", count\n",
    "    print \"--------------------------------\"\n",
    "\n",
    "    return res"
   ]
  },
  {
   "cell_type": "markdown",
   "metadata": {},
   "source": [
    "Сохранение постов в базу данных"
   ]
  },
  {
   "cell_type": "code",
   "execution_count": 9,
   "metadata": {
    "collapsed": true
   },
   "outputs": [],
   "source": [
    "def save_posts(index, posts):\n",
    "    for post in posts:\n",
    "        database.index(index=index, doc_type=doc_type, id=post['id'], body=post)"
   ]
  },
  {
   "cell_type": "markdown",
   "metadata": {},
   "source": [
    "Вытаскиваем имя группы с данных о группе"
   ]
  },
  {
   "cell_type": "code",
   "execution_count": 10,
   "metadata": {
    "collapsed": true
   },
   "outputs": [],
   "source": [
    "def extract_group_name(group):\n",
    "    return group['name'].decode('utf-8').lower().replace(\" \", \"_\")"
   ]
  },
  {
   "cell_type": "markdown",
   "metadata": {},
   "source": [
    "Сохранение постов группы"
   ]
  },
  {
   "cell_type": "code",
   "execution_count": null,
   "metadata": {
    "collapsed": true
   },
   "outputs": [],
   "source": [
    "# noinspection PyShadowingNames\n",
    "def save_group_posts(graph, group_id):\n",
    "    s_time = time()\n",
    "    group = graph.get_object(group_id)\n",
    "    f_time = time()\n",
    "\n",
    "    print \"load group data time: \", str(f_time - s_time)\n",
    "\n",
    "    group_name = extract_group_name(group)\n",
    "\n",
    "    print \"downloading posts from: \", group_name\n",
    "\n",
    "    posts = graph.get_connections(group['id'], 'feed')\n",
    "    posts_data = load_posts_pages(posts=posts, max_count=posts_count)\n",
    "    index = index_prefix + group_name + \"_\" + group_id\n",
    "    save_posts(index, posts_data)\n",
    "  "
   ]
  },
  {
   "cell_type": "markdown",
   "metadata": {},
   "source": [
    "Запускаем процесс загрузки постов по заготовленным id групп"
   ]
  },
  {
   "cell_type": "code",
   "execution_count": null,
   "metadata": {
    "collapsed": false
   },
   "outputs": [],
   "source": [
    "for group_id in groups_ids:\n",
    "    save_group_posts(graph=graph, group_id=group_id)"
   ]
  },
  {
   "cell_type": "code",
   "execution_count": null,
   "metadata": {
    "collapsed": true
   },
   "outputs": [],
   "source": []
  },
  {
   "cell_type": "code",
   "execution_count": null,
   "metadata": {
    "collapsed": true
   },
   "outputs": [],
   "source": []
  }
 ],
 "metadata": {
  "anaconda-cloud": {},
  "kernelspec": {
   "display_name": "Python [Root]",
   "language": "python",
   "name": "Python [Root]"
  },
  "language_info": {
   "codemirror_mode": {
    "name": "ipython",
    "version": 2
   },
   "file_extension": ".py",
   "mimetype": "text/x-python",
   "name": "python",
   "nbconvert_exporter": "python",
   "pygments_lexer": "ipython2",
   "version": "2.7.12"
  }
 },
 "nbformat": 4,
 "nbformat_minor": 0
}
